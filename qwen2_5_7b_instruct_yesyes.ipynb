{
  "nbformat": 4,
  "nbformat_minor": 0,
  "metadata": {
    "colab": {
      "provenance": [],
      "authorship_tag": "ABX9TyPNxJVOD4/3WpD0+1ijsSLc",
      "include_colab_link": true
    },
    "kernelspec": {
      "name": "python3",
      "display_name": "Python 3"
    },
    "language_info": {
      "name": "python"
    }
  },
  "cells": [
    {
      "cell_type": "markdown",
      "metadata": {
        "id": "view-in-github",
        "colab_type": "text"
      },
      "source": [
        "<a href=\"https://colab.research.google.com/github/yohoobot/works/blob/main/qwen2_5_7b_instruct_yesyes.ipynb\" target=\"_parent\"><img src=\"https://colab.research.google.com/assets/colab-badge.svg\" alt=\"Open In Colab\"/></a>"
      ]
    },
    {
      "cell_type": "code",
      "source": [
        "import json\n",
        "import requests\n",
        "import random\n",
        "\n",
        "# 你的 API Key\n",
        "# 你的 API Key\n",
        "API_KEY = \"sk-\"  # 替换为你的 API Key\n",
        "API_URL = \"https://dashscope.aliyuncs.com/api/v1/services/aigc/text-generation/generation\"  # 确保端点正确\n",
        "\n",
        "# 读取 JSON 数据集\n",
        "with open(\"using.json\", \"r\", encoding=\"utf-8\") as f:\n",
        "    dataset = json.load(f)\n",
        "\n",
        "# 随机选择 5 组数据作为 Few-shot 示例\n",
        "few_shot_examples = random.sample(dataset, 5)\n",
        "few_shot_prompt = \"\\n\".join(\n",
        "    [f\"Scene: {pair['scene']}\\nMusic: {pair['music_desc']}\\n\" for pair in few_shot_examples]\n",
        ")\n",
        "\n",
        "def generate_music_description(scene_desc):\n",
        "    \"\"\"使用 Qwen2.5-7B-Instruct 生成背景音乐描述\"\"\"\n",
        "    messages = [\n",
        "        {\"role\": \"system\", \"content\": \"You are an expert in restaurant music selection. Based on the given restaurant scene description, generate a suitable background music description.\"},\n",
        "        {\"role\": \"user\", \"content\": f\"Here are some examples:\\n{few_shot_prompt}\\n\\nNow, based on the following scene, generate a matching music description.\\n\\nScene: {scene_desc}\\nMusic:\"}\n",
        "    ]\n",
        "\n",
        "    headers = {\n",
        "        \"Authorization\": f\"Bearer {API_KEY}\",\n",
        "        \"Content-Type\": \"application/json\"\n",
        "    }\n",
        "\n",
        "    payload = {\n",
        "        \"model\": \"qwen2.5-7b-instruct\",\n",
        "        \"input\": {\"messages\": messages},  # 修正为 JSON 结构\n",
        "        \"parameters\": {\n",
        "            \"temperature\": 0.7,\n",
        "            \"max_tokens\": 100\n",
        "        }\n",
        "    }\n",
        "\n",
        "    response = requests.post(API_URL, headers=headers, json=payload)\n",
        "\n",
        "    if response.status_code == 200:\n",
        "        result = response.json()\n",
        "        return result.get(\"output\", {}).get(\"text\", \"No output received.\")\n",
        "    else:\n",
        "        return f\"Error: {response.text}\"\n",
        "\n",
        "# 示例测试\n",
        "test_scene = \"现代餐厅，午餐时段，人流量中等\"\n",
        "music_desc = generate_music_description(test_scene)\n",
        "print(\"Generated Music Description:\", music_desc)\n"
      ],
      "metadata": {
        "colab": {
          "base_uri": "https://localhost:8080/"
        },
        "id": "IyN1IAFey7Rz",
        "outputId": "0e4a05f2-d254-452a-e7a1-817255c4eafe"
      },
      "execution_count": 5,
      "outputs": [
        {
          "output_type": "stream",
          "name": "stdout",
          "text": [
            "Generated Music Description: 音乐：轻快的现代爵士乐，结合钢琴和贝斯的流畅旋律，营造出轻松愉快且不失格调的用餐氛围。\n"
          ]
        }
      ]
    }
  ]
}