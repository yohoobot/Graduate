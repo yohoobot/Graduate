{
  "nbformat": 4,
  "nbformat_minor": 0,
  "metadata": {
    "colab": {
      "provenance": [],
      "authorship_tag": "ABX9TyPYZz9REqd07IkgxQFaxYWK",
      "include_colab_link": true
    },
    "kernelspec": {
      "name": "python3",
      "display_name": "Python 3"
    },
    "language_info": {
      "name": "python"
    }
  },
  "cells": [
    {
      "cell_type": "markdown",
      "metadata": {
        "id": "view-in-github",
        "colab_type": "text"
      },
      "source": [
        "<a href=\"https://colab.research.google.com/github/yohoobot/works/blob/main/spt2_abandon.ipynb\" target=\"_parent\"><img src=\"https://colab.research.google.com/assets/colab-badge.svg\" alt=\"Open In Colab\"/></a>"
      ]
    },
    {
      "cell_type": "code",
      "source": [
        "!lsof -i :8888\n"
      ],
      "metadata": {
        "id": "ovhF3zr2HXtz"
      },
      "execution_count": 3,
      "outputs": []
    },
    {
      "cell_type": "code",
      "source": [
        "!kill -9 5937"
      ],
      "metadata": {
        "id": "dSX6Z8iGHaLE"
      },
      "execution_count": null,
      "outputs": []
    },
    {
      "cell_type": "code",
      "source": [
        "!lsof -i :8888"
      ],
      "metadata": {
        "id": "K9bxyGjNHe7v"
      },
      "execution_count": 1,
      "outputs": []
    },
    {
      "cell_type": "code",
      "source": [
        "# -*- coding: utf-8 -*-\n",
        "\"\"\"\n",
        "Spotify餐馆场景音乐爬虫：构建\"场景描述\" - \"背景音乐描述\"训练样本\n",
        "新方案：抓取歌曲的预览音频（preview_url），使用本地音乐分析工具提取音乐特征。\n",
        "兼容 Colab/Jupyter：手动粘贴 code，无需本地监听端口。\n",
        "\"\"\"\n",
        "\n",
        "import requests\n",
        "import pandas as pd\n",
        "import time\n",
        "import os\n",
        "from urllib.parse import urlencode\n",
        "\n",
        "# ========== 1. 设置你的Spotify API凭据 ==========\n",
        "CLIENT_ID = \"\"\n",
        "CLIENT_SECRET = \"\"\n",
        "REDIRECT_URI = \"http://localhost:8888/callback\"\n",
        "SCOPE = \"user-library-read playlist-read-private\"\n",
        "\n",
        "# ========== 2. 用户授权：生成链接并手动输入 code ==========\n",
        "params = urlencode({\n",
        "    \"client_id\": CLIENT_ID,\n",
        "    \"response_type\": \"code\",\n",
        "    \"redirect_uri\": REDIRECT_URI,\n",
        "    \"scope\": SCOPE\n",
        "})\n",
        "auth_url = f\"https://accounts.spotify.com/authorize?{params}\"\n",
        "print(\"🔑 请复制以下链接到浏览器中打开进行授权：\")\n",
        "print(auth_url)\n",
        "code = input(\"📥 授权完成后，请将浏览器地址栏中的 code 参数粘贴到此处：\\n\")\n",
        "\n",
        "# ========== 3. 用 code 获取 access token ==========\n",
        "TOKEN_URL = \"https://accounts.spotify.com/api/token\"\n",
        "token_data = {\n",
        "    \"grant_type\": \"authorization_code\",\n",
        "    \"code\": code,\n",
        "    \"redirect_uri\": REDIRECT_URI,\n",
        "    \"client_id\": CLIENT_ID,\n",
        "    \"client_secret\": CLIENT_SECRET\n",
        "}\n",
        "token_response = requests.post(TOKEN_URL, data=token_data)\n",
        "token_json = token_response.json()\n",
        "ACCESS_TOKEN = token_json.get(\"access_token\")\n",
        "HEADERS = {\"Authorization\": f\"Bearer {ACCESS_TOKEN}\"}\n",
        "\n",
        "# ========== 4. 构建关键词列表 ==========\n",
        "KEYWORDS = [\n",
        "    \"restaurant\", \"cafe\", \"coffee shop\", \"dining\",\n",
        "    \"brunch spot\", \"fine dining\", \"bistro\", \"bar\",\n",
        "    \"japanese restaurant\", \"sushi bar\", \"izakaya\",\n",
        "    \"chinese restaurant\", \"hotpot\", \"dim sum\",\n",
        "    \"korean bbq\", \"french restaurant\", \"italian restaurant\",\n",
        "    \"mexican restaurant\", \"indian restaurant\", \"vegan cafe\"\n",
        "]\n",
        "\n",
        "# ========== 5. 初始化数据集 ==========\n",
        "data_pairs = []\n",
        "os.makedirs(\"preview_audio\", exist_ok=True)\n",
        "\n",
        "# ========== 6. 遍历关键词，搜索歌单 ==========\n",
        "for keyword in KEYWORDS:\n",
        "    print(f\"🔍 正在搜索关键词：{keyword}\")\n",
        "    search_url = \"https://api.spotify.com/v1/search\"\n",
        "    params = {\"q\": keyword, \"type\": \"playlist\", \"limit\": 3, \"market\": \"US\"}\n",
        "    resp = requests.get(search_url, headers=HEADERS, params=params)\n",
        "    playlist_items = resp.json().get(\"playlists\", {}).get(\"items\")\n",
        "\n",
        "    if not playlist_items:\n",
        "        print(\"❌ 没有找到相关歌单。\")\n",
        "        continue\n",
        "\n",
        "    for pl in playlist_items:\n",
        "        if not isinstance(pl, dict):\n",
        "            continue\n",
        "\n",
        "        playlist_name = pl.get(\"name\", \"\")\n",
        "        playlist_desc = pl.get(\"description\", \"\")\n",
        "        playlist_id = pl.get(\"id\")\n",
        "\n",
        "        if not playlist_id:\n",
        "            continue\n",
        "\n",
        "        track_url = f\"https://api.spotify.com/v1/playlists/{playlist_id}/tracks?limit=10\"\n",
        "        print(f\"🎵 正在抓取歌单：{playlist_name}\")\n",
        "        track_resp = requests.get(track_url, headers=HEADERS)\n",
        "        if track_resp.status_code != 200:\n",
        "            print(f\"⚠️ 歌单获取失败：{track_url}\")\n",
        "            continue\n",
        "\n",
        "        track_data = track_resp.json()\n",
        "        tracks = track_data.get(\"items\", [])\n",
        "\n",
        "        if not tracks:\n",
        "            print(\"⚠️ 歌单中没有歌曲条目。\")\n",
        "            continue\n",
        "\n",
        "        for track_obj in tracks[:5]:\n",
        "            if not isinstance(track_obj, dict):\n",
        "                continue\n",
        "            track = track_obj.get(\"track\")\n",
        "            if not isinstance(track, dict):\n",
        "                continue\n",
        "            track_id = track.get(\"id\")\n",
        "            track_name = track.get(\"name\", \"\")\n",
        "            preview_url = track.get(\"preview_url\")\n",
        "            artist_list = track.get(\"artists\")\n",
        "            artist_name = artist_list[0].get(\"name\") if artist_list and isinstance(artist_list[0], dict) else \"unknown\"\n",
        "\n",
        "            if not preview_url:\n",
        "                print(f\"⚠️ 无预览音频：{track_name}\")\n",
        "                continue\n",
        "\n",
        "            # 下载预览音频\n",
        "            try:\n",
        "                audio_data = requests.get(preview_url).content\n",
        "                filename = f\"preview_audio/{track_id}.mp3\"\n",
        "                with open(filename, \"wb\") as f:\n",
        "                    f.write(audio_data)\n",
        "                print(f\"🎧 预览音频已保存：{filename}\")\n",
        "            except Exception as e:\n",
        "                print(f\"⚠️ 下载失败：{preview_url}\")\n",
        "                continue\n",
        "\n",
        "            scene_desc = f\"{playlist_name}. {playlist_desc}\"\n",
        "            music_info = f\"{track_name} by {artist_name}, preview saved at {filename}\"\n",
        "            data_pairs.append({\"scene\": scene_desc.strip(), \"music_preview\": music_info.strip()})\n",
        "            time.sleep(1)  # 请休息 1 秒，避免频繁请求\n",
        "\n",
        "# ========== 7. 保存为CSV ==========\n",
        "df = pd.DataFrame(data_pairs)\n",
        "df.to_csv(\"scene_music_pairs.csv\", index=False, encoding=\"utf-8-sig\")\n",
        "print(\"✅ 数据抓取完成，保存为 scene_music_pairs.csv\")\n"
      ],
      "metadata": {
        "colab": {
          "base_uri": "https://localhost:8080/",
          "height": 422
        },
        "id": "QJN7wWAlBuvY",
        "outputId": "b1192663-1244-4075-8b77-99c4aea578f2"
      },
      "execution_count": 5,
      "outputs": [
        {
          "output_type": "stream",
          "name": "stdout",
          "text": [
            "🔑 请复制以下链接到浏览器中打开进行授权：\n",
            "https://accounts.spotify.com/authorize?client_id=&response_type=code&redirect_uri=http%3A%2F%2Flocalhost%3A8888%2Fcallback&scope=user-library-read+playlist-read-private\n"
          ]
        },
        {
          "output_type": "error",
          "ename": "KeyboardInterrupt",
          "evalue": "Interrupted by user",
          "traceback": [
            "\u001b[0;31m---------------------------------------------------------------------------\u001b[0m",
            "\u001b[0;31mKeyboardInterrupt\u001b[0m                         Traceback (most recent call last)",
            "\u001b[0;32m<ipython-input-5-7f93f5a0e0ea>\u001b[0m in \u001b[0;36m<cell line: 0>\u001b[0;34m()\u001b[0m\n\u001b[1;32m     28\u001b[0m \u001b[0mprint\u001b[0m\u001b[0;34m(\u001b[0m\u001b[0;34m\"🔑 请复制以下链接到浏览器中打开进行授权：\"\u001b[0m\u001b[0;34m)\u001b[0m\u001b[0;34m\u001b[0m\u001b[0;34m\u001b[0m\u001b[0m\n\u001b[1;32m     29\u001b[0m \u001b[0mprint\u001b[0m\u001b[0;34m(\u001b[0m\u001b[0mauth_url\u001b[0m\u001b[0;34m)\u001b[0m\u001b[0;34m\u001b[0m\u001b[0;34m\u001b[0m\u001b[0m\n\u001b[0;32m---> 30\u001b[0;31m \u001b[0mcode\u001b[0m \u001b[0;34m=\u001b[0m \u001b[0minput\u001b[0m\u001b[0;34m(\u001b[0m\u001b[0;34m\"📥 授权完成后，请将浏览器地址栏中的 code 参数粘贴到此处：\\n\"\u001b[0m\u001b[0;34m)\u001b[0m\u001b[0;34m\u001b[0m\u001b[0;34m\u001b[0m\u001b[0m\n\u001b[0m\u001b[1;32m     31\u001b[0m \u001b[0;34m\u001b[0m\u001b[0m\n\u001b[1;32m     32\u001b[0m \u001b[0;31m# ========== 3. 用 code 获取 access token ==========\u001b[0m\u001b[0;34m\u001b[0m\u001b[0;34m\u001b[0m\u001b[0m\n",
            "\u001b[0;32m/usr/local/lib/python3.11/dist-packages/ipykernel/kernelbase.py\u001b[0m in \u001b[0;36mraw_input\u001b[0;34m(self, prompt)\u001b[0m\n\u001b[1;32m   1175\u001b[0m                 \u001b[0;34m\"raw_input was called, but this frontend does not support input requests.\"\u001b[0m\u001b[0;34m\u001b[0m\u001b[0;34m\u001b[0m\u001b[0m\n\u001b[1;32m   1176\u001b[0m             )\n\u001b[0;32m-> 1177\u001b[0;31m         return self._input_request(\n\u001b[0m\u001b[1;32m   1178\u001b[0m             \u001b[0mstr\u001b[0m\u001b[0;34m(\u001b[0m\u001b[0mprompt\u001b[0m\u001b[0;34m)\u001b[0m\u001b[0;34m,\u001b[0m\u001b[0;34m\u001b[0m\u001b[0;34m\u001b[0m\u001b[0m\n\u001b[1;32m   1179\u001b[0m             \u001b[0mself\u001b[0m\u001b[0;34m.\u001b[0m\u001b[0m_parent_ident\u001b[0m\u001b[0;34m[\u001b[0m\u001b[0;34m\"shell\"\u001b[0m\u001b[0;34m]\u001b[0m\u001b[0;34m,\u001b[0m\u001b[0;34m\u001b[0m\u001b[0;34m\u001b[0m\u001b[0m\n",
            "\u001b[0;32m/usr/local/lib/python3.11/dist-packages/ipykernel/kernelbase.py\u001b[0m in \u001b[0;36m_input_request\u001b[0;34m(self, prompt, ident, parent, password)\u001b[0m\n\u001b[1;32m   1217\u001b[0m             \u001b[0;32mexcept\u001b[0m \u001b[0mKeyboardInterrupt\u001b[0m\u001b[0;34m:\u001b[0m\u001b[0;34m\u001b[0m\u001b[0;34m\u001b[0m\u001b[0m\n\u001b[1;32m   1218\u001b[0m                 \u001b[0;31m# re-raise KeyboardInterrupt, to truncate traceback\u001b[0m\u001b[0;34m\u001b[0m\u001b[0;34m\u001b[0m\u001b[0m\n\u001b[0;32m-> 1219\u001b[0;31m                 \u001b[0;32mraise\u001b[0m \u001b[0mKeyboardInterrupt\u001b[0m\u001b[0;34m(\u001b[0m\u001b[0;34m\"Interrupted by user\"\u001b[0m\u001b[0;34m)\u001b[0m \u001b[0;32mfrom\u001b[0m \u001b[0;32mNone\u001b[0m\u001b[0;34m\u001b[0m\u001b[0;34m\u001b[0m\u001b[0m\n\u001b[0m\u001b[1;32m   1220\u001b[0m             \u001b[0;32mexcept\u001b[0m \u001b[0mException\u001b[0m\u001b[0;34m:\u001b[0m\u001b[0;34m\u001b[0m\u001b[0;34m\u001b[0m\u001b[0m\n\u001b[1;32m   1221\u001b[0m                 \u001b[0mself\u001b[0m\u001b[0;34m.\u001b[0m\u001b[0mlog\u001b[0m\u001b[0;34m.\u001b[0m\u001b[0mwarning\u001b[0m\u001b[0;34m(\u001b[0m\u001b[0;34m\"Invalid Message:\"\u001b[0m\u001b[0;34m,\u001b[0m \u001b[0mexc_info\u001b[0m\u001b[0;34m=\u001b[0m\u001b[0;32mTrue\u001b[0m\u001b[0;34m)\u001b[0m\u001b[0;34m\u001b[0m\u001b[0;34m\u001b[0m\u001b[0m\n",
            "\u001b[0;31mKeyboardInterrupt\u001b[0m: Interrupted by user"
          ]
        }
      ]
    }
  ]
}