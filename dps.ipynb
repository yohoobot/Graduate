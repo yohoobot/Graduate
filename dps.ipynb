{
  "nbformat": 4,
  "nbformat_minor": 0,
  "metadata": {
    "colab": {
      "provenance": [],
      "authorship_tag": "ABX9TyMEjrflvkKVkfSBh563D1fs",
      "include_colab_link": true
    },
    "kernelspec": {
      "name": "python3",
      "display_name": "Python 3"
    },
    "language_info": {
      "name": "python"
    }
  },
  "cells": [
    {
      "cell_type": "markdown",
      "metadata": {
        "id": "view-in-github",
        "colab_type": "text"
      },
      "source": [
        "<a href=\"https://colab.research.google.com/github/yohoobot/works/blob/main/dps.ipynb\" target=\"_parent\"><img src=\"https://colab.research.google.com/assets/colab-badge.svg\" alt=\"Open In Colab\"/></a>"
      ]
    },
    {
      "cell_type": "code",
      "execution_count": 6,
      "metadata": {
        "colab": {
          "base_uri": "https://localhost:8080/"
        },
        "id": "GOW1pIhk2LvW",
        "outputId": "6faea321-1339-405d-fae6-80ae4c4e0ed5"
      },
      "outputs": [
        {
          "output_type": "stream",
          "name": "stdout",
          "text": [
            "请输入餐馆环境描述: 晚餐时段，人流量多的热闹火锅店\n",
            "⚠️ API 请求失败: 422, Failed to deserialize the JSON body into the target type: missing field `prompt` at line 1 column 1954\n"
          ]
        }
      ],
      "source": [
        "import json\n",
        "import requests\n",
        "import random\n",
        "\n",
        "# 🔹 设置 DeepSeek API Key\n",
        "API_KEY = \"sk-\"  # 替换为你的 API Key\n",
        "\n",
        "# 🔹 API URL\n",
        "API_URL = \"https://api.deepseek.com/v1/completions\"\n",
        "\n",
        "# 🔹 读取 using.json 数据集\n",
        "with open(\"using.json\", \"r\", encoding=\"utf-8\") as f:\n",
        "    dataset = json.load(f)\n",
        "\n",
        "# 🔹 随机选择 5 个 few-shot 示例\n",
        "few_shot_examples = random.sample(dataset, 5)\n",
        "\n",
        "# 🔹 构造 few-shot 示例文本\n",
        "few_shot_prompt = \"Here are some examples:\\n\\n\"\n",
        "for example in few_shot_examples:\n",
        "    few_shot_prompt += f\"Restaurant Scene: {example['scene']}\\n\"\n",
        "    few_shot_prompt += f\"Background Music Description: {example['music_desc']}\\n\\n\"\n",
        "\n",
        "# 🔹 让用户输入新的餐馆环境描述\n",
        "new_scene = input(\"请输入餐馆环境描述: \")\n",
        "\n",
        "# 🔹 构造完整 prompt\n",
        "full_prompt = f\"\"\"\n",
        "You are an AI that recommends background music based on restaurant environments.\n",
        "{few_shot_prompt}\n",
        "Now, generate a background music description for the following restaurant scene:\n",
        "\n",
        "Restaurant Scene: {new_scene}\n",
        "Background Music Description:\n",
        "\"\"\"\n",
        "\n",
        "# 🔹 发送 API 请求\n",
        "headers = {\n",
        "    \"Authorization\": f\"Bearer {API_KEY}\",\n",
        "    \"Content-Type\": \"application/json\"\n",
        "}\n",
        "\n",
        "payload = {\n",
        "    \"model\": \"deepseek-chat\",\n",
        "    \"messages\": [\n",
        "        {\"role\": \"system\", \"content\": \"You are a music recommendation assistant.\"},\n",
        "        {\"role\": \"user\", \"content\": full_prompt}\n",
        "    ],\n",
        "    \"temperature\": 0.7,\n",
        "    \"max_tokens\": 200\n",
        "}\n",
        "\n",
        "response = requests.post(API_URL, headers=headers, json=payload)\n",
        "\n",
        "# 🔹 解析 API 返回结果\n",
        "if response.status_code == 200:\n",
        "    result = response.json()\n",
        "    generated_music_description = result[\"choices\"][0][\"message\"][\"content\"]\n",
        "    print(\"\\n🎵 推荐的背景音乐描述: \\n\", generated_music_description)\n",
        "else:\n",
        "    print(f\"⚠️ API 请求失败: {response.status_code}, {response.text}\")\n"
      ]
    }
  ]
}